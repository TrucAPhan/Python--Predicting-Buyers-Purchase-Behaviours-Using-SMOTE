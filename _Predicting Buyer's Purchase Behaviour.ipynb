{
 "cells": [
  {
   "cell_type": "code",
   "execution_count": 1,
   "metadata": {},
   "outputs": [],
   "source": [
    "#import modules\n",
    "import pandas as pd\n",
    "import matplotlib.pyplot as plt\n",
    "from sklearn.model_selection  import train_test_split\n",
    "from sklearn import metrics\n",
    "from sklearn.preprocessing import StandardScaler\n",
    "from sklearn.svm import SVC \n",
    "from sklearn.svm import LinearSVC\n",
    "from sklearn.neural_network import MLPClassifier \n",
    "from scipy import stats\n",
    "from sklearn.impute import KNNImputer\n",
    "from sklearn.ensemble import RandomForestClassifier\n",
    "from sklearn.ensemble import GradientBoostingClassifier\n",
    "from imblearn.over_sampling import SMOTE \n",
    "import numpy as np\n",
    "import seaborn as sns\n",
    "import statsmodels.api as sm\n",
    "import os\n",
    "from sklearn.metrics import roc_curve, auc\n",
    "from imblearn.under_sampling import RandomUnderSampler\n",
    "from imblearn.pipeline import Pipeline"
   ]
  },
  {
   "cell_type": "code",
   "execution_count": 4,
   "metadata": {},
   "outputs": [],
   "source": [
    "#fill na with zeros for buy freq\n",
    "ads_train['buy_freq'] = ads_train['buy_freq'].fillna(0)"
   ]
  },
  {
   "cell_type": "code",
   "execution_count": 24,
   "metadata": {},
   "outputs": [],
   "source": [
    "ads_train.head(); "
   ]
  },
  {
   "cell_type": "code",
   "execution_count": 6,
   "metadata": {},
   "outputs": [],
   "source": [
    "#drop isbuyer, last_buy, last visit, multiple buy\n",
    "ads_train = ads_train.drop(['isbuyer','last_buy','multiple_buy'],axis=1)"
   ]
  },
  {
   "cell_type": "code",
   "execution_count": 7,
   "metadata": {},
   "outputs": [],
   "source": [
    "#convert negative values to zeros\n",
    "ads_train.loc[ads_train['expected_time_buy'] < 0, 'expected_time_buy'] = 0\n",
    "ads_train.loc[ads_train['expected_time_visit'] < 0, 'expected_time_visit'] = 0"
   ]
  },
  {
   "cell_type": "code",
   "execution_count": 25,
   "metadata": {},
   "outputs": [],
   "source": [
    "ads_train['expected_time_buy'].value_counts();"
   ]
  },
  {
   "cell_type": "code",
   "execution_count": 9,
   "metadata": {},
   "outputs": [],
   "source": [
    "mean_sv = ads_train['sv_interval'].mean()\n",
    "std_sv = ads_train['sv_interval'].std()\n",
    "cutoff_sv = mean_sv + 2*std_sv"
   ]
  },
  {
   "cell_type": "code",
   "execution_count": 10,
   "metadata": {},
   "outputs": [],
   "source": [
    "mean_ck = ads_train['num_checkins'].mean()\n",
    "std_ck = ads_train['num_checkins'].std()\n",
    "cutoff_ck = mean_ck + 2*std_ck"
   ]
  },
  {
   "cell_type": "code",
   "execution_count": 11,
   "metadata": {},
   "outputs": [],
   "source": [
    "#drop uniq_urls = -1\n",
    "#ads_train.drop(['uniq_urls'] == -1)\n",
    "ads_train = ads_train[ads_train.uniq_urls != -1]"
   ]
  },
  {
   "cell_type": "code",
   "execution_count": 12,
   "metadata": {},
   "outputs": [],
   "source": [
    "#drop sv > 2 std\n",
    "ads_train = ads_train[ads_train['sv_interval'] < cutoff_sv]"
   ]
  },
  {
   "cell_type": "code",
   "execution_count": 13,
   "metadata": {},
   "outputs": [],
   "source": [
    "#drop ck > 2 std\n",
    "ads_train = ads_train[ads_train['num_checkins'] < cutoff_ck]"
   ]
  },
  {
   "cell_type": "code",
   "execution_count": 26,
   "metadata": {},
   "outputs": [],
   "source": [
    "ads_train.head();"
   ]
  },
  {
   "cell_type": "code",
   "execution_count": 15,
   "metadata": {},
   "outputs": [],
   "source": [
    "#score function\n",
    "def score(y_test,y_pred):\n",
    "    print(metrics.confusion_matrix(y_test, y_pred))\n",
    "    print(\"Accuracy: \" + str( metrics.accuracy_score(y_test, y_pred)*100)+\" %\")\n",
    "    print(\"Precision: \"+ str( metrics.precision_score(y_test, y_pred)*100) + \" %\")\n",
    "    print(\"Recall: \"+ str( metrics.recall_score(y_test, y_pred)*100) +\" %\")"
   ]
  },
  {
   "cell_type": "code",
   "execution_count": 16,
   "metadata": {},
   "outputs": [],
   "source": [
    "y = ads_train['y_buy']\n",
    "ads_train['intercept'] = 1.0\n",
    "X = ads_train.drop(columns = ['y_buy'], axis=1)"
   ]
  },
  {
   "cell_type": "code",
   "execution_count": 17,
   "metadata": {},
   "outputs": [],
   "source": [
    "#SMOTE\n",
    "smt = SMOTE(random_state=42)\n",
    "X_sm, y_sm = smt.fit_resample(X, y)"
   ]
  },
  {
   "cell_type": "code",
   "execution_count": 18,
   "metadata": {},
   "outputs": [],
   "source": [
    "#split \n",
    "X_train, X_test, y_train, y_test = train_test_split(X_sm, y_sm, test_size=0.20,random_state=109) "
   ]
  },
  {
   "cell_type": "code",
   "execution_count": 19,
   "metadata": {},
   "outputs": [],
   "source": [
    "#Random forest\n",
    "#100 decision trees\n",
    "rf = RandomForestClassifier(n_estimators = 100,criterion='entropy', \n",
    "                           max_depth=23, max_features=None, \n",
    "                           max_leaf_nodes=None, min_samples_leaf=1, \n",
    "                           min_samples_split=2, min_weight_fraction_leaf=0.0, \n",
    "                           random_state = 42,bootstrap=True)\n",
    "# Train the model on training data\n",
    "rf.fit(X_train, y_train);"
   ]
  },
  {
   "cell_type": "code",
   "execution_count": 20,
   "metadata": {},
   "outputs": [
    {
     "name": "stdout",
     "output_type": "stream",
     "text": [
      "[[6839   83]\n",
      " [  38 6868]]\n",
      "Accuracy: 99.12496384148105 %\n",
      "Precision: 98.80592720471874 %\n",
      "Recall: 99.44975383724298 %\n"
     ]
    }
   ],
   "source": [
    "#RF on SMOTE\n",
    "y_predRF = rf.predict(X_test)  \n",
    "# Confusion Matrix - Random forest\n",
    "score(y_test, y_predRF)"
   ]
  },
  {
   "cell_type": "code",
   "execution_count": 21,
   "metadata": {},
   "outputs": [],
   "source": [
    "#split from original data set\n",
    "X_trainO, X_testO, y_trainO, y_testO = train_test_split(X, y, test_size=0.20,random_state=109) "
   ]
  },
  {
   "cell_type": "code",
   "execution_count": 22,
   "metadata": {},
   "outputs": [
    {
     "name": "stdout",
     "output_type": "stream",
     "text": [
      "[[6896   19]\n",
      " [   3   28]]\n",
      "Accuracy: 99.6832709473078 %\n",
      "Precision: 59.57446808510638 %\n",
      "Recall: 90.32258064516128 %\n"
     ]
    }
   ],
   "source": [
    "#RF on split original data set\n",
    "y_predRF = rf.predict(X_testO)  \n",
    "# Confusion Matrix - Random Forest on split original data set\n",
    "score(y_testO, y_predRF)"
   ]
  },
  {
   "cell_type": "code",
   "execution_count": 23,
   "metadata": {},
   "outputs": [
    {
     "name": "stdout",
     "output_type": "stream",
     "text": [
      "[[34466   104]\n",
      " [   12   147]]\n",
      "Accuracy: 99.66598519968902 %\n",
      "Precision: 58.56573705179283 %\n",
      "Recall: 92.45283018867924 %\n"
     ]
    }
   ],
   "source": [
    "#RF on whole data set\n",
    "y_predRF = rf.predict(X)\n",
    "# Confusion Matrix - Random Forest on whole data set\n",
    "score(y, y_predRF)"
   ]
  },
  {
   "cell_type": "code",
   "execution_count": null,
   "metadata": {},
   "outputs": [],
   "source": []
  }
 ],
 "metadata": {
  "kernelspec": {
   "display_name": "Python 3",
   "language": "python",
   "name": "python3"
  },
  "language_info": {
   "codemirror_mode": {
    "name": "ipython",
    "version": 3
   },
   "file_extension": ".py",
   "mimetype": "text/x-python",
   "name": "python",
   "nbconvert_exporter": "python",
   "pygments_lexer": "ipython3",
   "version": "3.8.3"
  }
 },
 "nbformat": 4,
 "nbformat_minor": 4
}
